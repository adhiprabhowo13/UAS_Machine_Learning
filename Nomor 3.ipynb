{
 "cells": [
  {
   "cell_type": "markdown",
   "metadata": {},
   "source": [
    "3. Sebutkan beberapa tools yang di gunakan untuk mengolah machine learning"
   ]
  },
  {
   "cell_type": "markdown",
   "metadata": {},
   "source": [
    "Tools yang digunakan untuk mengolah machine learning:\n",
    "•\tTools Machine Learning: scikit-learn\n",
    "•\tTools Machine Learning: TensorFlow\n",
    "•\tTools Machine Learning: Microsoft Azure Machine Learning Studio\n",
    "•\tIBM Watson\n",
    "•\tAnaconda\n",
    "•\tKeras\n",
    "•\tPyTorch\n",
    "•\tCaffe2\n",
    "•\tAmazon Web Service\n",
    "•\tJupyter Notebook\n"
   ]
  }
 ],
 "metadata": {
  "kernelspec": {
   "display_name": "Python 3",
   "language": "python",
   "name": "python3"
  },
  "language_info": {
   "codemirror_mode": {
    "name": "ipython",
    "version": 3
   },
   "file_extension": ".py",
   "mimetype": "text/x-python",
   "name": "python",
   "nbconvert_exporter": "python",
   "pygments_lexer": "ipython3",
   "version": "3.11.1"
  }
 },
 "nbformat": 4,
 "nbformat_minor": 2
}
