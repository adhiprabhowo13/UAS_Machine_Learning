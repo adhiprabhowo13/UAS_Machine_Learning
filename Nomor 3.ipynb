{
 "cells": [
  {
   "cell_type": "markdown",
   "metadata": {},
   "source": [
    "3. Sebutkan beberapa tools yang di gunakan untuk mengolah machine learning"
   ]
  },
  {
   "cell_type": "code",
   "execution_count": null,
   "metadata": {},
   "outputs": [],
   "source": [
    "print(\"•\tTools Machine Learning: scikit-learn\")\n",
    "print(\"•\tTools Machine Learning: TensorFlow\")\n",
    "print(\"•\tTools Machine Learning: Microsoft Azure Machine Learning Studio\")\n",
    "print(\"•\tIBM Watson\")\n",
    "print(\"•\tAnaconda\")\n",
    "print(\"•\tKeras\")\n",
    "print(\"•\tPyTorch\")\n",
    "print(\"•\tCaffe2\")\n",
    "print(\"•\tAmazon Web Service\")\n",
    "print(\"•\tJupyter Notebook\")"
   ]
  }
 ],
 "metadata": {
  "language_info": {
   "name": "python"
  }
 },
 "nbformat": 4,
 "nbformat_minor": 2
}
